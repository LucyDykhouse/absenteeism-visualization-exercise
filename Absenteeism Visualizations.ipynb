{
 "cells": [
  {
   "cell_type": "markdown",
   "metadata": {},
   "source": [
    "# Spotting Data Relationships"
   ]
  },
  {
   "cell_type": "markdown",
   "metadata": {},
   "source": [
    "## 5W's + 1"
   ]
  },
  {
   "cell_type": "markdown",
   "metadata": {},
   "source": [
    "#### Who is engaging with our content? "
   ]
  },
  {
   "cell_type": "markdown",
   "metadata": {},
   "source": [
    "Anyone who is interested in the instances of worker absenteeism. More specifically, manangers who are interested in employee happiness and satisfaction might be interested in this content as they try to understand how to craft a more modern, flexible Paid Time Off policy for the future of work."
   ]
  },
  {
   "cell_type": "markdown",
   "metadata": {},
   "source": [
    "#### What have you done?"
   ]
  },
  {
   "cell_type": "markdown",
   "metadata": {},
   "source": [
    "I have been tasked with conducting an analysis on a large available dataset of absenteeism. I am working to draw out insights that might be helpful for the panel discussion."
   ]
  },
  {
   "cell_type": "markdown",
   "metadata": {},
   "source": [
    "#### Where did the users come from to see the content?"
   ]
  },
  {
   "cell_type": "markdown",
   "metadata": {},
   "source": [
    "Managers come from a variety of different companies in various industries, but what they have in common is their interest and investment in employee happiness and satisfaction."
   ]
  },
  {
   "cell_type": "markdown",
   "metadata": {},
   "source": [
    "#### Was there some other event at the same time? (When)"
   ]
  },
  {
   "cell_type": "markdown",
   "metadata": {},
   "source": [
    "The managers are attending a summit with many panels, some of which may overlap with the panel on absenteeism. It will be important to make this information available to those who may not be present at the panel but are still interested in the information."
   ]
  },
  {
   "cell_type": "markdown",
   "metadata": {},
   "source": [
    "#### Why do we get the results we're seeing?"
   ]
  },
  {
   "cell_type": "markdown",
   "metadata": {},
   "source": [
    "No results have been produced yet; however, managers are interested in this absenteeism panel because absentee patterns may shed insight on how to best draft the employee Paid Time Off policies."
   ]
  },
  {
   "cell_type": "markdown",
   "metadata": {},
   "source": [
    "#### How many people saw this content?"
   ]
  },
  {
   "cell_type": "markdown",
   "metadata": {},
   "source": [
    "A variety of managers will see this content, and perhaps even share it with others."
   ]
  },
  {
   "cell_type": "markdown",
   "metadata": {},
   "source": [
    "## Exploratory Analysis"
   ]
  },
  {
   "cell_type": "markdown",
   "metadata": {},
   "source": [
    "### Basic information"
   ]
  },
  {
   "cell_type": "code",
   "execution_count": 1,
   "metadata": {},
   "outputs": [],
   "source": [
    "import numpy as np\n",
    "import pandas as pd"
   ]
  },
  {
   "cell_type": "code",
   "execution_count": 2,
   "metadata": {},
   "outputs": [],
   "source": [
    "df = pd.read_csv('Absenteeism_at_work.tsv', sep='\\t')"
   ]
  },
  {
   "cell_type": "code",
   "execution_count": 3,
   "metadata": {},
   "outputs": [
    {
     "data": {
      "text/html": [
       "<div>\n",
       "<style scoped>\n",
       "    .dataframe tbody tr th:only-of-type {\n",
       "        vertical-align: middle;\n",
       "    }\n",
       "\n",
       "    .dataframe tbody tr th {\n",
       "        vertical-align: top;\n",
       "    }\n",
       "\n",
       "    .dataframe thead th {\n",
       "        text-align: right;\n",
       "    }\n",
       "</style>\n",
       "<table border=\"1\" class=\"dataframe\">\n",
       "  <thead>\n",
       "    <tr style=\"text-align: right;\">\n",
       "      <th></th>\n",
       "      <th>ID</th>\n",
       "      <th>Reason for absence</th>\n",
       "      <th>Month of absence</th>\n",
       "      <th>Day of the week</th>\n",
       "      <th>Seasons</th>\n",
       "      <th>Transportation expense</th>\n",
       "      <th>Distance from Residence to Work</th>\n",
       "      <th>Service time</th>\n",
       "      <th>Age</th>\n",
       "      <th>Work load Average/day</th>\n",
       "      <th>...</th>\n",
       "      <th>Disciplinary failure</th>\n",
       "      <th>Education</th>\n",
       "      <th>Son</th>\n",
       "      <th>Social drinker</th>\n",
       "      <th>Social smoker</th>\n",
       "      <th>Pet</th>\n",
       "      <th>Weight</th>\n",
       "      <th>Height</th>\n",
       "      <th>Body mass index</th>\n",
       "      <th>Absenteeism time in hours</th>\n",
       "    </tr>\n",
       "  </thead>\n",
       "  <tbody>\n",
       "    <tr>\n",
       "      <th>0</th>\n",
       "      <td>11</td>\n",
       "      <td>26</td>\n",
       "      <td>7</td>\n",
       "      <td>3</td>\n",
       "      <td>1</td>\n",
       "      <td>289</td>\n",
       "      <td>36</td>\n",
       "      <td>13</td>\n",
       "      <td>33</td>\n",
       "      <td>239.554</td>\n",
       "      <td>...</td>\n",
       "      <td>0</td>\n",
       "      <td>1</td>\n",
       "      <td>2</td>\n",
       "      <td>1</td>\n",
       "      <td>0</td>\n",
       "      <td>1</td>\n",
       "      <td>90</td>\n",
       "      <td>172</td>\n",
       "      <td>30</td>\n",
       "      <td>4</td>\n",
       "    </tr>\n",
       "    <tr>\n",
       "      <th>1</th>\n",
       "      <td>36</td>\n",
       "      <td>0</td>\n",
       "      <td>7</td>\n",
       "      <td>3</td>\n",
       "      <td>1</td>\n",
       "      <td>118</td>\n",
       "      <td>13</td>\n",
       "      <td>18</td>\n",
       "      <td>50</td>\n",
       "      <td>239.554</td>\n",
       "      <td>...</td>\n",
       "      <td>1</td>\n",
       "      <td>1</td>\n",
       "      <td>1</td>\n",
       "      <td>1</td>\n",
       "      <td>0</td>\n",
       "      <td>0</td>\n",
       "      <td>98</td>\n",
       "      <td>178</td>\n",
       "      <td>31</td>\n",
       "      <td>0</td>\n",
       "    </tr>\n",
       "    <tr>\n",
       "      <th>2</th>\n",
       "      <td>3</td>\n",
       "      <td>23</td>\n",
       "      <td>7</td>\n",
       "      <td>4</td>\n",
       "      <td>1</td>\n",
       "      <td>179</td>\n",
       "      <td>51</td>\n",
       "      <td>18</td>\n",
       "      <td>38</td>\n",
       "      <td>239.554</td>\n",
       "      <td>...</td>\n",
       "      <td>0</td>\n",
       "      <td>1</td>\n",
       "      <td>0</td>\n",
       "      <td>1</td>\n",
       "      <td>0</td>\n",
       "      <td>0</td>\n",
       "      <td>89</td>\n",
       "      <td>170</td>\n",
       "      <td>31</td>\n",
       "      <td>2</td>\n",
       "    </tr>\n",
       "    <tr>\n",
       "      <th>3</th>\n",
       "      <td>7</td>\n",
       "      <td>7</td>\n",
       "      <td>7</td>\n",
       "      <td>5</td>\n",
       "      <td>1</td>\n",
       "      <td>279</td>\n",
       "      <td>5</td>\n",
       "      <td>14</td>\n",
       "      <td>39</td>\n",
       "      <td>239.554</td>\n",
       "      <td>...</td>\n",
       "      <td>0</td>\n",
       "      <td>1</td>\n",
       "      <td>2</td>\n",
       "      <td>1</td>\n",
       "      <td>1</td>\n",
       "      <td>0</td>\n",
       "      <td>68</td>\n",
       "      <td>168</td>\n",
       "      <td>24</td>\n",
       "      <td>4</td>\n",
       "    </tr>\n",
       "    <tr>\n",
       "      <th>4</th>\n",
       "      <td>11</td>\n",
       "      <td>23</td>\n",
       "      <td>7</td>\n",
       "      <td>5</td>\n",
       "      <td>1</td>\n",
       "      <td>289</td>\n",
       "      <td>36</td>\n",
       "      <td>13</td>\n",
       "      <td>33</td>\n",
       "      <td>239.554</td>\n",
       "      <td>...</td>\n",
       "      <td>0</td>\n",
       "      <td>1</td>\n",
       "      <td>2</td>\n",
       "      <td>1</td>\n",
       "      <td>0</td>\n",
       "      <td>1</td>\n",
       "      <td>90</td>\n",
       "      <td>172</td>\n",
       "      <td>30</td>\n",
       "      <td>2</td>\n",
       "    </tr>\n",
       "  </tbody>\n",
       "</table>\n",
       "<p>5 rows × 21 columns</p>\n",
       "</div>"
      ],
      "text/plain": [
       "   ID  Reason for absence  Month of absence  Day of the week  Seasons  \\\n",
       "0  11                  26                 7                3        1   \n",
       "1  36                   0                 7                3        1   \n",
       "2   3                  23                 7                4        1   \n",
       "3   7                   7                 7                5        1   \n",
       "4  11                  23                 7                5        1   \n",
       "\n",
       "   Transportation expense  Distance from Residence to Work  Service time  Age  \\\n",
       "0                     289                               36            13   33   \n",
       "1                     118                               13            18   50   \n",
       "2                     179                               51            18   38   \n",
       "3                     279                                5            14   39   \n",
       "4                     289                               36            13   33   \n",
       "\n",
       "   Work load Average/day   ...  Disciplinary failure  Education  Son  \\\n",
       "0                 239.554  ...                     0          1    2   \n",
       "1                 239.554  ...                     1          1    1   \n",
       "2                 239.554  ...                     0          1    0   \n",
       "3                 239.554  ...                     0          1    2   \n",
       "4                 239.554  ...                     0          1    2   \n",
       "\n",
       "   Social drinker  Social smoker  Pet  Weight  Height  Body mass index  \\\n",
       "0               1              0    1      90     172               30   \n",
       "1               1              0    0      98     178               31   \n",
       "2               1              0    0      89     170               31   \n",
       "3               1              1    0      68     168               24   \n",
       "4               1              0    1      90     172               30   \n",
       "\n",
       "   Absenteeism time in hours  \n",
       "0                          4  \n",
       "1                          0  \n",
       "2                          2  \n",
       "3                          4  \n",
       "4                          2  \n",
       "\n",
       "[5 rows x 21 columns]"
      ]
     },
     "execution_count": 3,
     "metadata": {},
     "output_type": "execute_result"
    }
   ],
   "source": [
    "df.head()"
   ]
  },
  {
   "cell_type": "code",
   "execution_count": 4,
   "metadata": {},
   "outputs": [
    {
     "data": {
      "text/plain": [
       "(740, 21)"
      ]
     },
     "execution_count": 4,
     "metadata": {},
     "output_type": "execute_result"
    }
   ],
   "source": [
    "df.shape"
   ]
  },
  {
   "cell_type": "code",
   "execution_count": 5,
   "metadata": {},
   "outputs": [
    {
     "name": "stdout",
     "output_type": "stream",
     "text": [
      "<class 'pandas.core.frame.DataFrame'>\n",
      "RangeIndex: 740 entries, 0 to 739\n",
      "Data columns (total 21 columns):\n",
      " #   Column                           Non-Null Count  Dtype  \n",
      "---  ------                           --------------  -----  \n",
      " 0   ID                               740 non-null    int64  \n",
      " 1   Reason for absence               740 non-null    int64  \n",
      " 2   Month of absence                 740 non-null    int64  \n",
      " 3   Day of the week                  740 non-null    int64  \n",
      " 4   Seasons                          740 non-null    int64  \n",
      " 5   Transportation expense           740 non-null    int64  \n",
      " 6   Distance from Residence to Work  740 non-null    int64  \n",
      " 7   Service time                     740 non-null    int64  \n",
      " 8   Age                              740 non-null    int64  \n",
      " 9   Work load Average/day            740 non-null    float64\n",
      " 10  Hit target                       740 non-null    int64  \n",
      " 11  Disciplinary failure             740 non-null    int64  \n",
      " 12  Education                        740 non-null    int64  \n",
      " 13  Son                              740 non-null    int64  \n",
      " 14  Social drinker                   740 non-null    int64  \n",
      " 15  Social smoker                    740 non-null    int64  \n",
      " 16  Pet                              740 non-null    int64  \n",
      " 17  Weight                           740 non-null    int64  \n",
      " 18  Height                           740 non-null    int64  \n",
      " 19  Body mass index                  740 non-null    int64  \n",
      " 20  Absenteeism time in hours        740 non-null    int64  \n",
      "dtypes: float64(1), int64(20)\n",
      "memory usage: 121.5 KB\n"
     ]
    }
   ],
   "source": [
    "df.info()"
   ]
  },
  {
   "cell_type": "code",
   "execution_count": 6,
   "metadata": {},
   "outputs": [
    {
     "data": {
      "text/plain": [
       "ID                                   int64\n",
       "Reason for absence                   int64\n",
       "Month of absence                     int64\n",
       "Day of the week                      int64\n",
       "Seasons                              int64\n",
       "Transportation expense               int64\n",
       "Distance from Residence to Work      int64\n",
       "Service time                         int64\n",
       "Age                                  int64\n",
       "Work load Average/day              float64\n",
       "Hit target                           int64\n",
       "Disciplinary failure                 int64\n",
       "Education                            int64\n",
       "Son                                  int64\n",
       "Social drinker                       int64\n",
       "Social smoker                        int64\n",
       "Pet                                  int64\n",
       "Weight                               int64\n",
       "Height                               int64\n",
       "Body mass index                      int64\n",
       "Absenteeism time in hours            int64\n",
       "dtype: object"
      ]
     },
     "execution_count": 6,
     "metadata": {},
     "output_type": "execute_result"
    }
   ],
   "source": [
    "df.dtypes"
   ]
  },
  {
   "cell_type": "code",
   "execution_count": 7,
   "metadata": {},
   "outputs": [
    {
     "data": {
      "text/plain": [
       "ID                                 False\n",
       "Reason for absence                 False\n",
       "Month of absence                   False\n",
       "Day of the week                    False\n",
       "Seasons                            False\n",
       "Transportation expense             False\n",
       "Distance from Residence to Work    False\n",
       "Service time                       False\n",
       "Age                                False\n",
       "Work load Average/day              False\n",
       "Hit target                         False\n",
       "Disciplinary failure               False\n",
       "Education                          False\n",
       "Son                                False\n",
       "Social drinker                     False\n",
       "Social smoker                      False\n",
       "Pet                                False\n",
       "Weight                             False\n",
       "Height                             False\n",
       "Body mass index                    False\n",
       "Absenteeism time in hours          False\n",
       "dtype: bool"
      ]
     },
     "execution_count": 7,
     "metadata": {},
     "output_type": "execute_result"
    }
   ],
   "source": [
    "df.isnull().any()"
   ]
  },
  {
   "cell_type": "code",
   "execution_count": 8,
   "metadata": {},
   "outputs": [
    {
     "data": {
      "text/html": [
       "<div>\n",
       "<style scoped>\n",
       "    .dataframe tbody tr th:only-of-type {\n",
       "        vertical-align: middle;\n",
       "    }\n",
       "\n",
       "    .dataframe tbody tr th {\n",
       "        vertical-align: top;\n",
       "    }\n",
       "\n",
       "    .dataframe thead th {\n",
       "        text-align: right;\n",
       "    }\n",
       "</style>\n",
       "<table border=\"1\" class=\"dataframe\">\n",
       "  <thead>\n",
       "    <tr style=\"text-align: right;\">\n",
       "      <th></th>\n",
       "      <th>ID</th>\n",
       "      <th>Reason for absence</th>\n",
       "      <th>Month of absence</th>\n",
       "      <th>Day of the week</th>\n",
       "      <th>Seasons</th>\n",
       "      <th>Transportation expense</th>\n",
       "      <th>Distance from Residence to Work</th>\n",
       "      <th>Service time</th>\n",
       "      <th>Age</th>\n",
       "      <th>Work load Average/day</th>\n",
       "      <th>...</th>\n",
       "      <th>Disciplinary failure</th>\n",
       "      <th>Education</th>\n",
       "      <th>Son</th>\n",
       "      <th>Social drinker</th>\n",
       "      <th>Social smoker</th>\n",
       "      <th>Pet</th>\n",
       "      <th>Weight</th>\n",
       "      <th>Height</th>\n",
       "      <th>Body mass index</th>\n",
       "      <th>Absenteeism time in hours</th>\n",
       "    </tr>\n",
       "  </thead>\n",
       "  <tbody>\n",
       "    <tr>\n",
       "      <th>count</th>\n",
       "      <td>740.000000</td>\n",
       "      <td>740.000000</td>\n",
       "      <td>740.000000</td>\n",
       "      <td>740.000000</td>\n",
       "      <td>740.000000</td>\n",
       "      <td>740.000000</td>\n",
       "      <td>740.000000</td>\n",
       "      <td>740.000000</td>\n",
       "      <td>740.000000</td>\n",
       "      <td>740.000000</td>\n",
       "      <td>...</td>\n",
       "      <td>740.000000</td>\n",
       "      <td>740.000000</td>\n",
       "      <td>740.000000</td>\n",
       "      <td>740.000000</td>\n",
       "      <td>740.000000</td>\n",
       "      <td>740.000000</td>\n",
       "      <td>740.000000</td>\n",
       "      <td>740.000000</td>\n",
       "      <td>740.000000</td>\n",
       "      <td>740.000000</td>\n",
       "    </tr>\n",
       "    <tr>\n",
       "      <th>mean</th>\n",
       "      <td>18.017568</td>\n",
       "      <td>19.216216</td>\n",
       "      <td>6.324324</td>\n",
       "      <td>3.914865</td>\n",
       "      <td>2.544595</td>\n",
       "      <td>221.329730</td>\n",
       "      <td>29.631081</td>\n",
       "      <td>12.554054</td>\n",
       "      <td>36.450000</td>\n",
       "      <td>271.490235</td>\n",
       "      <td>...</td>\n",
       "      <td>0.054054</td>\n",
       "      <td>1.291892</td>\n",
       "      <td>1.018919</td>\n",
       "      <td>0.567568</td>\n",
       "      <td>0.072973</td>\n",
       "      <td>0.745946</td>\n",
       "      <td>79.035135</td>\n",
       "      <td>172.114865</td>\n",
       "      <td>26.677027</td>\n",
       "      <td>6.924324</td>\n",
       "    </tr>\n",
       "    <tr>\n",
       "      <th>std</th>\n",
       "      <td>11.021247</td>\n",
       "      <td>8.433406</td>\n",
       "      <td>3.436287</td>\n",
       "      <td>1.421675</td>\n",
       "      <td>1.111831</td>\n",
       "      <td>66.952223</td>\n",
       "      <td>14.836788</td>\n",
       "      <td>4.384873</td>\n",
       "      <td>6.478772</td>\n",
       "      <td>39.058116</td>\n",
       "      <td>...</td>\n",
       "      <td>0.226277</td>\n",
       "      <td>0.673238</td>\n",
       "      <td>1.098489</td>\n",
       "      <td>0.495749</td>\n",
       "      <td>0.260268</td>\n",
       "      <td>1.318258</td>\n",
       "      <td>12.883211</td>\n",
       "      <td>6.034995</td>\n",
       "      <td>4.285452</td>\n",
       "      <td>13.330998</td>\n",
       "    </tr>\n",
       "    <tr>\n",
       "      <th>min</th>\n",
       "      <td>1.000000</td>\n",
       "      <td>0.000000</td>\n",
       "      <td>0.000000</td>\n",
       "      <td>2.000000</td>\n",
       "      <td>1.000000</td>\n",
       "      <td>118.000000</td>\n",
       "      <td>5.000000</td>\n",
       "      <td>1.000000</td>\n",
       "      <td>27.000000</td>\n",
       "      <td>205.917000</td>\n",
       "      <td>...</td>\n",
       "      <td>0.000000</td>\n",
       "      <td>1.000000</td>\n",
       "      <td>0.000000</td>\n",
       "      <td>0.000000</td>\n",
       "      <td>0.000000</td>\n",
       "      <td>0.000000</td>\n",
       "      <td>56.000000</td>\n",
       "      <td>163.000000</td>\n",
       "      <td>19.000000</td>\n",
       "      <td>0.000000</td>\n",
       "    </tr>\n",
       "    <tr>\n",
       "      <th>25%</th>\n",
       "      <td>9.000000</td>\n",
       "      <td>13.000000</td>\n",
       "      <td>3.000000</td>\n",
       "      <td>3.000000</td>\n",
       "      <td>2.000000</td>\n",
       "      <td>179.000000</td>\n",
       "      <td>16.000000</td>\n",
       "      <td>9.000000</td>\n",
       "      <td>31.000000</td>\n",
       "      <td>244.387000</td>\n",
       "      <td>...</td>\n",
       "      <td>0.000000</td>\n",
       "      <td>1.000000</td>\n",
       "      <td>0.000000</td>\n",
       "      <td>0.000000</td>\n",
       "      <td>0.000000</td>\n",
       "      <td>0.000000</td>\n",
       "      <td>69.000000</td>\n",
       "      <td>169.000000</td>\n",
       "      <td>24.000000</td>\n",
       "      <td>2.000000</td>\n",
       "    </tr>\n",
       "    <tr>\n",
       "      <th>50%</th>\n",
       "      <td>18.000000</td>\n",
       "      <td>23.000000</td>\n",
       "      <td>6.000000</td>\n",
       "      <td>4.000000</td>\n",
       "      <td>3.000000</td>\n",
       "      <td>225.000000</td>\n",
       "      <td>26.000000</td>\n",
       "      <td>13.000000</td>\n",
       "      <td>37.000000</td>\n",
       "      <td>264.249000</td>\n",
       "      <td>...</td>\n",
       "      <td>0.000000</td>\n",
       "      <td>1.000000</td>\n",
       "      <td>1.000000</td>\n",
       "      <td>1.000000</td>\n",
       "      <td>0.000000</td>\n",
       "      <td>0.000000</td>\n",
       "      <td>83.000000</td>\n",
       "      <td>170.000000</td>\n",
       "      <td>25.000000</td>\n",
       "      <td>3.000000</td>\n",
       "    </tr>\n",
       "    <tr>\n",
       "      <th>75%</th>\n",
       "      <td>28.000000</td>\n",
       "      <td>26.000000</td>\n",
       "      <td>9.000000</td>\n",
       "      <td>5.000000</td>\n",
       "      <td>4.000000</td>\n",
       "      <td>260.000000</td>\n",
       "      <td>50.000000</td>\n",
       "      <td>16.000000</td>\n",
       "      <td>40.000000</td>\n",
       "      <td>294.217000</td>\n",
       "      <td>...</td>\n",
       "      <td>0.000000</td>\n",
       "      <td>1.000000</td>\n",
       "      <td>2.000000</td>\n",
       "      <td>1.000000</td>\n",
       "      <td>0.000000</td>\n",
       "      <td>1.000000</td>\n",
       "      <td>89.000000</td>\n",
       "      <td>172.000000</td>\n",
       "      <td>31.000000</td>\n",
       "      <td>8.000000</td>\n",
       "    </tr>\n",
       "    <tr>\n",
       "      <th>max</th>\n",
       "      <td>36.000000</td>\n",
       "      <td>28.000000</td>\n",
       "      <td>12.000000</td>\n",
       "      <td>6.000000</td>\n",
       "      <td>4.000000</td>\n",
       "      <td>388.000000</td>\n",
       "      <td>52.000000</td>\n",
       "      <td>29.000000</td>\n",
       "      <td>58.000000</td>\n",
       "      <td>378.884000</td>\n",
       "      <td>...</td>\n",
       "      <td>1.000000</td>\n",
       "      <td>4.000000</td>\n",
       "      <td>4.000000</td>\n",
       "      <td>1.000000</td>\n",
       "      <td>1.000000</td>\n",
       "      <td>8.000000</td>\n",
       "      <td>108.000000</td>\n",
       "      <td>196.000000</td>\n",
       "      <td>38.000000</td>\n",
       "      <td>120.000000</td>\n",
       "    </tr>\n",
       "  </tbody>\n",
       "</table>\n",
       "<p>8 rows × 21 columns</p>\n",
       "</div>"
      ],
      "text/plain": [
       "               ID  Reason for absence  Month of absence  Day of the week  \\\n",
       "count  740.000000          740.000000        740.000000       740.000000   \n",
       "mean    18.017568           19.216216          6.324324         3.914865   \n",
       "std     11.021247            8.433406          3.436287         1.421675   \n",
       "min      1.000000            0.000000          0.000000         2.000000   \n",
       "25%      9.000000           13.000000          3.000000         3.000000   \n",
       "50%     18.000000           23.000000          6.000000         4.000000   \n",
       "75%     28.000000           26.000000          9.000000         5.000000   \n",
       "max     36.000000           28.000000         12.000000         6.000000   \n",
       "\n",
       "          Seasons  Transportation expense  Distance from Residence to Work  \\\n",
       "count  740.000000              740.000000                       740.000000   \n",
       "mean     2.544595              221.329730                        29.631081   \n",
       "std      1.111831               66.952223                        14.836788   \n",
       "min      1.000000              118.000000                         5.000000   \n",
       "25%      2.000000              179.000000                        16.000000   \n",
       "50%      3.000000              225.000000                        26.000000   \n",
       "75%      4.000000              260.000000                        50.000000   \n",
       "max      4.000000              388.000000                        52.000000   \n",
       "\n",
       "       Service time         Age  Work load Average/day   ...  \\\n",
       "count    740.000000  740.000000              740.000000  ...   \n",
       "mean      12.554054   36.450000              271.490235  ...   \n",
       "std        4.384873    6.478772               39.058116  ...   \n",
       "min        1.000000   27.000000              205.917000  ...   \n",
       "25%        9.000000   31.000000              244.387000  ...   \n",
       "50%       13.000000   37.000000              264.249000  ...   \n",
       "75%       16.000000   40.000000              294.217000  ...   \n",
       "max       29.000000   58.000000              378.884000  ...   \n",
       "\n",
       "       Disciplinary failure   Education         Son  Social drinker  \\\n",
       "count            740.000000  740.000000  740.000000      740.000000   \n",
       "mean               0.054054    1.291892    1.018919        0.567568   \n",
       "std                0.226277    0.673238    1.098489        0.495749   \n",
       "min                0.000000    1.000000    0.000000        0.000000   \n",
       "25%                0.000000    1.000000    0.000000        0.000000   \n",
       "50%                0.000000    1.000000    1.000000        1.000000   \n",
       "75%                0.000000    1.000000    2.000000        1.000000   \n",
       "max                1.000000    4.000000    4.000000        1.000000   \n",
       "\n",
       "       Social smoker         Pet      Weight      Height  Body mass index  \\\n",
       "count     740.000000  740.000000  740.000000  740.000000       740.000000   \n",
       "mean        0.072973    0.745946   79.035135  172.114865        26.677027   \n",
       "std         0.260268    1.318258   12.883211    6.034995         4.285452   \n",
       "min         0.000000    0.000000   56.000000  163.000000        19.000000   \n",
       "25%         0.000000    0.000000   69.000000  169.000000        24.000000   \n",
       "50%         0.000000    0.000000   83.000000  170.000000        25.000000   \n",
       "75%         0.000000    1.000000   89.000000  172.000000        31.000000   \n",
       "max         1.000000    8.000000  108.000000  196.000000        38.000000   \n",
       "\n",
       "       Absenteeism time in hours  \n",
       "count                 740.000000  \n",
       "mean                    6.924324  \n",
       "std                    13.330998  \n",
       "min                     0.000000  \n",
       "25%                     2.000000  \n",
       "50%                     3.000000  \n",
       "75%                     8.000000  \n",
       "max                   120.000000  \n",
       "\n",
       "[8 rows x 21 columns]"
      ]
     },
     "execution_count": 8,
     "metadata": {},
     "output_type": "execute_result"
    }
   ],
   "source": [
    "df.describe()"
   ]
  },
  {
   "cell_type": "markdown",
   "metadata": {},
   "source": [
    "### See what months have the most absences using a histogram"
   ]
  },
  {
   "cell_type": "code",
   "execution_count": 9,
   "metadata": {},
   "outputs": [],
   "source": [
    "import matplotlib.pyplot as plt\n",
    "%matplotlib inline"
   ]
  },
  {
   "cell_type": "code",
   "execution_count": 10,
   "metadata": {},
   "outputs": [
    {
     "data": {
      "text/plain": [
       "Text(0, 0.5, 'Absences')"
      ]
     },
     "execution_count": 10,
     "metadata": {},
     "output_type": "execute_result"
    },
    {
     "data": {
      "image/png": "[encoded data removed]",
      "text/plain": [
       "<Figure size 432x288 with 1 Axes>"
      ]
     },
     "metadata": {
      "needs_background": "light"
     },
     "output_type": "display_data"
    }
   ],
   "source": [
    "plt.hist(df['Month of absence'], bins=13);\n",
    "plt.title('Absences per Month')\n",
    "plt.xlabel('Months')\n",
    "plt.ylabel('Absences')"
   ]
  },
  {
   "cell_type": "markdown",
   "metadata": {},
   "source": [
    "### See what day of the week is most often missed"
   ]
  },
  {
   "cell_type": "code",
   "execution_count": 11,
   "metadata": {},
   "outputs": [],
   "source": [
    "import seaborn as sns"
   ]
  },
  {
   "cell_type": "code",
   "execution_count": 12,
   "metadata": {},
   "outputs": [
    {
     "data": {
      "text/plain": [
       "<matplotlib.axes._subplots.AxesSubplot at 0x2026048cd90>"
      ]
     },
     "execution_count": 12,
     "metadata": {},
     "output_type": "execute_result"
    },
    {
     "data": {
      "image/png": "[encoded data removed]",
      "text/plain": [
       "<Figure size 432x288 with 1 Axes>"
      ]
     },
     "metadata": {
      "needs_background": "light"
     },
     "output_type": "display_data"
    }
   ],
   "source": [
    "sns.countplot(df['Day of the week'])"
   ]
  },
  {
   "cell_type": "markdown",
   "metadata": {},
   "source": [
    "### Find average workload of workers from absence info"
   ]
  },
  {
   "cell_type": "code",
   "execution_count": 13,
   "metadata": {},
   "outputs": [
    {
     "data": {
      "text/plain": [
       "271.49023513513544"
      ]
     },
     "execution_count": 13,
     "metadata": {},
     "output_type": "execute_result"
    }
   ],
   "source": [
    "df['Work load Average/day '].mean()"
   ]
  },
  {
   "cell_type": "markdown",
   "metadata": {},
   "source": [
    "### Use boxplot to analyze the workers' transportation expenses"
   ]
  },
  {
   "cell_type": "code",
   "execution_count": 14,
   "metadata": {},
   "outputs": [
    {
     "data": {
      "text/plain": [
       "Text(0.5, 1.0, 'Summary of Transportation Expenses')"
      ]
     },
     "execution_count": 14,
     "metadata": {},
     "output_type": "execute_result"
    },
    {
     "data": {
      "image/png": "[encoded data removed]",
      "text/plain": [
       "<Figure size 432x288 with 1 Axes>"
      ]
     },
     "metadata": {
      "needs_background": "light"
     },
     "output_type": "display_data"
    }
   ],
   "source": [
    "sns.boxplot(data=df['Transportation expense']).set_title('Summary of Transportation Expenses')"
   ]
  },
  {
   "cell_type": "markdown",
   "metadata": {},
   "source": [
    "### Compare the median transportation expense to the mean"
   ]
  },
  {
   "cell_type": "code",
   "execution_count": 15,
   "metadata": {},
   "outputs": [
    {
     "data": {
      "text/plain": [
       "221.32972972972973"
      ]
     },
     "execution_count": 15,
     "metadata": {},
     "output_type": "execute_result"
    }
   ],
   "source": [
    "df['Transportation expense'].mean()"
   ]
  },
  {
   "cell_type": "code",
   "execution_count": 16,
   "metadata": {},
   "outputs": [
    {
     "data": {
      "text/plain": [
       "225.0"
      ]
     },
     "execution_count": 16,
     "metadata": {},
     "output_type": "execute_result"
    }
   ],
   "source": [
    "df['Transportation expense'].median()"
   ]
  },
  {
   "cell_type": "markdown",
   "metadata": {},
   "source": [
    "### Use boxplot to analyze the workers' distance from home"
   ]
  },
  {
   "cell_type": "code",
   "execution_count": 17,
   "metadata": {},
   "outputs": [
    {
     "data": {
      "text/plain": [
       "Text(0.5, 1.0, \"Summary of Workers' Distance to Work\")"
      ]
     },
     "execution_count": 17,
     "metadata": {},
     "output_type": "execute_result"
    },
    {
     "data": {
      "image/png": "[encoded data removed]",
      "text/plain": [
       "<Figure size 432x288 with 1 Axes>"
      ]
     },
     "metadata": {
      "needs_background": "light"
     },
     "output_type": "display_data"
    }
   ],
   "source": [
    "sns.boxplot(data=df['Distance from Residence to Work']).set_title('Summary of Workers\\' Distance to Work')"
   ]
  },
  {
   "cell_type": "markdown",
   "metadata": {},
   "source": [
    "### Compare the median distance to the mean distance"
   ]
  },
  {
   "cell_type": "code",
   "execution_count": 18,
   "metadata": {},
   "outputs": [
    {
     "data": {
      "text/plain": [
       "29.63108108108108"
      ]
     },
     "execution_count": 18,
     "metadata": {},
     "output_type": "execute_result"
    }
   ],
   "source": [
    "df['Distance from Residence to Work'].mean()"
   ]
  },
  {
   "cell_type": "code",
   "execution_count": 19,
   "metadata": {},
   "outputs": [
    {
     "data": {
      "text/plain": [
       "26.0"
      ]
     },
     "execution_count": 19,
     "metadata": {},
     "output_type": "execute_result"
    }
   ],
   "source": [
    "df['Distance from Residence to Work'].median()"
   ]
  },
  {
   "cell_type": "markdown",
   "metadata": {},
   "source": [
    "## Skepticism and Hyman's Maxim"
   ]
  },
  {
   "cell_type": "markdown",
   "metadata": {},
   "source": [
    "### Disprove the correlation null hypothesis"
   ]
  },
  {
   "cell_type": "code",
   "execution_count": 20,
   "metadata": {},
   "outputs": [
    {
     "data": {
      "text/html": [
       "<div>\n",
       "<style scoped>\n",
       "    .dataframe tbody tr th:only-of-type {\n",
       "        vertical-align: middle;\n",
       "    }\n",
       "\n",
       "    .dataframe tbody tr th {\n",
       "        vertical-align: top;\n",
       "    }\n",
       "\n",
       "    .dataframe thead th {\n",
       "        text-align: right;\n",
       "    }\n",
       "</style>\n",
       "<table border=\"1\" class=\"dataframe\">\n",
       "  <thead>\n",
       "    <tr style=\"text-align: right;\">\n",
       "      <th></th>\n",
       "      <th></th>\n",
       "      <th>ID</th>\n",
       "      <th>Reason for absence</th>\n",
       "      <th>Month of absence</th>\n",
       "      <th>Day of the week</th>\n",
       "      <th>Seasons</th>\n",
       "      <th>Transportation expense</th>\n",
       "      <th>Distance from Residence to Work</th>\n",
       "      <th>Service time</th>\n",
       "      <th>Age</th>\n",
       "      <th>Work load Average/day</th>\n",
       "      <th>Hit target</th>\n",
       "      <th>Disciplinary failure</th>\n",
       "      <th>Education</th>\n",
       "      <th>Son</th>\n",
       "      <th>Pet</th>\n",
       "      <th>Weight</th>\n",
       "      <th>Height</th>\n",
       "      <th>Body mass index</th>\n",
       "      <th>Absenteeism time in hours</th>\n",
       "    </tr>\n",
       "    <tr>\n",
       "      <th>Social drinker</th>\n",
       "      <th>Social smoker</th>\n",
       "      <th></th>\n",
       "      <th></th>\n",
       "      <th></th>\n",
       "      <th></th>\n",
       "      <th></th>\n",
       "      <th></th>\n",
       "      <th></th>\n",
       "      <th></th>\n",
       "      <th></th>\n",
       "      <th></th>\n",
       "      <th></th>\n",
       "      <th></th>\n",
       "      <th></th>\n",
       "      <th></th>\n",
       "      <th></th>\n",
       "      <th></th>\n",
       "      <th></th>\n",
       "      <th></th>\n",
       "      <th></th>\n",
       "    </tr>\n",
       "  </thead>\n",
       "  <tbody>\n",
       "    <tr>\n",
       "      <th rowspan=\"2\" valign=\"top\">0</th>\n",
       "      <th>0</th>\n",
       "      <td>286</td>\n",
       "      <td>286</td>\n",
       "      <td>286</td>\n",
       "      <td>286</td>\n",
       "      <td>286</td>\n",
       "      <td>286</td>\n",
       "      <td>286</td>\n",
       "      <td>286</td>\n",
       "      <td>286</td>\n",
       "      <td>286</td>\n",
       "      <td>286</td>\n",
       "      <td>286</td>\n",
       "      <td>286</td>\n",
       "      <td>286</td>\n",
       "      <td>286</td>\n",
       "      <td>286</td>\n",
       "      <td>286</td>\n",
       "      <td>286</td>\n",
       "      <td>286</td>\n",
       "    </tr>\n",
       "    <tr>\n",
       "      <th>1</th>\n",
       "      <td>34</td>\n",
       "      <td>34</td>\n",
       "      <td>34</td>\n",
       "      <td>34</td>\n",
       "      <td>34</td>\n",
       "      <td>34</td>\n",
       "      <td>34</td>\n",
       "      <td>34</td>\n",
       "      <td>34</td>\n",
       "      <td>34</td>\n",
       "      <td>34</td>\n",
       "      <td>34</td>\n",
       "      <td>34</td>\n",
       "      <td>34</td>\n",
       "      <td>34</td>\n",
       "      <td>34</td>\n",
       "      <td>34</td>\n",
       "      <td>34</td>\n",
       "      <td>34</td>\n",
       "    </tr>\n",
       "    <tr>\n",
       "      <th rowspan=\"2\" valign=\"top\">1</th>\n",
       "      <th>0</th>\n",
       "      <td>400</td>\n",
       "      <td>400</td>\n",
       "      <td>400</td>\n",
       "      <td>400</td>\n",
       "      <td>400</td>\n",
       "      <td>400</td>\n",
       "      <td>400</td>\n",
       "      <td>400</td>\n",
       "      <td>400</td>\n",
       "      <td>400</td>\n",
       "      <td>400</td>\n",
       "      <td>400</td>\n",
       "      <td>400</td>\n",
       "      <td>400</td>\n",
       "      <td>400</td>\n",
       "      <td>400</td>\n",
       "      <td>400</td>\n",
       "      <td>400</td>\n",
       "      <td>400</td>\n",
       "    </tr>\n",
       "    <tr>\n",
       "      <th>1</th>\n",
       "      <td>20</td>\n",
       "      <td>20</td>\n",
       "      <td>20</td>\n",
       "      <td>20</td>\n",
       "      <td>20</td>\n",
       "      <td>20</td>\n",
       "      <td>20</td>\n",
       "      <td>20</td>\n",
       "      <td>20</td>\n",
       "      <td>20</td>\n",
       "      <td>20</td>\n",
       "      <td>20</td>\n",
       "      <td>20</td>\n",
       "      <td>20</td>\n",
       "      <td>20</td>\n",
       "      <td>20</td>\n",
       "      <td>20</td>\n",
       "      <td>20</td>\n",
       "      <td>20</td>\n",
       "    </tr>\n",
       "  </tbody>\n",
       "</table>\n",
       "</div>"
      ],
      "text/plain": [
       "                               ID  Reason for absence  Month of absence  \\\n",
       "Social drinker Social smoker                                              \n",
       "0              0              286                 286               286   \n",
       "               1               34                  34                34   \n",
       "1              0              400                 400               400   \n",
       "               1               20                  20                20   \n",
       "\n",
       "                              Day of the week  Seasons  \\\n",
       "Social drinker Social smoker                             \n",
       "0              0                          286      286   \n",
       "               1                           34       34   \n",
       "1              0                          400      400   \n",
       "               1                           20       20   \n",
       "\n",
       "                              Transportation expense  \\\n",
       "Social drinker Social smoker                           \n",
       "0              0                                 286   \n",
       "               1                                  34   \n",
       "1              0                                 400   \n",
       "               1                                  20   \n",
       "\n",
       "                              Distance from Residence to Work  Service time  \\\n",
       "Social drinker Social smoker                                                  \n",
       "0              0                                          286           286   \n",
       "               1                                           34            34   \n",
       "1              0                                          400           400   \n",
       "               1                                           20            20   \n",
       "\n",
       "                              Age  Work load Average/day   Hit target  \\\n",
       "Social drinker Social smoker                                            \n",
       "0              0              286                     286         286   \n",
       "               1               34                      34          34   \n",
       "1              0              400                     400         400   \n",
       "               1               20                      20          20   \n",
       "\n",
       "                              Disciplinary failure  Education  Son  Pet  \\\n",
       "Social drinker Social smoker                                              \n",
       "0              0                               286        286  286  286   \n",
       "               1                                34         34   34   34   \n",
       "1              0                               400        400  400  400   \n",
       "               1                                20         20   20   20   \n",
       "\n",
       "                              Weight  Height  Body mass index  \\\n",
       "Social drinker Social smoker                                    \n",
       "0              0                 286     286              286   \n",
       "               1                  34      34               34   \n",
       "1              0                 400     400              400   \n",
       "               1                  20      20               20   \n",
       "\n",
       "                              Absenteeism time in hours  \n",
       "Social drinker Social smoker                             \n",
       "0              0                                    286  \n",
       "               1                                     34  \n",
       "1              0                                    400  \n",
       "               1                                     20  "
      ]
     },
     "execution_count": 20,
     "metadata": {},
     "output_type": "execute_result"
    }
   ],
   "source": [
    "df.groupby(['Social drinker', 'Social smoker']).count()"
   ]
  },
  {
   "cell_type": "markdown",
   "metadata": {},
   "source": [
    "As can be seen in the groupby object above, there are 34 people that are just social smokers (0, 1) along with 400 people that are just social drinkers (1, 0). This disproves the correlation null hypothesis that states social drinking and social smoking are the same trait."
   ]
  },
  {
   "cell_type": "markdown",
   "metadata": {},
   "source": [
    "### Disprove the independent samples null hypothesis"
   ]
  },
  {
   "cell_type": "code",
   "execution_count": 21,
   "metadata": {},
   "outputs": [],
   "source": [
    "age_below_30 = df[df['Age'] < 30]\n",
    "age_above_40 = df[df['Age'] > 40]"
   ]
  },
  {
   "cell_type": "code",
   "execution_count": 22,
   "metadata": {},
   "outputs": [
    {
     "data": {
      "text/plain": [
       "ID                                  23.541985\n",
       "Reason for absence                  19.206107\n",
       "Month of absence                     6.595420\n",
       "Day of the week                      3.847328\n",
       "Seasons                              2.664122\n",
       "Transportation expense             256.916031\n",
       "Distance from Residence to Work     30.450382\n",
       "Service time                         7.022901\n",
       "Age                                 28.000000\n",
       "Work load Average/day              275.658420\n",
       "Hit target                          94.877863\n",
       "Disciplinary failure                 0.038168\n",
       "Education                            1.122137\n",
       "Son                                  0.770992\n",
       "Social drinker                       0.236641\n",
       "Social smoker                        0.053435\n",
       "Pet                                  1.908397\n",
       "Weight                              72.580153\n",
       "Height                             171.885496\n",
       "Body mass index                     24.404580\n",
       "Absenteeism time in hours            5.412214\n",
       "dtype: float64"
      ]
     },
     "execution_count": 22,
     "metadata": {},
     "output_type": "execute_result"
    }
   ],
   "source": [
    "age_below_30.mean()"
   ]
  },
  {
   "cell_type": "code",
   "execution_count": 23,
   "metadata": {},
   "outputs": [
    {
     "data": {
      "text/plain": [
       "ID                                  24.687943\n",
       "Reason for absence                  16.801418\n",
       "Month of absence                     6.517730\n",
       "Day of the week                      3.929078\n",
       "Seasons                              2.560284\n",
       "Transportation expense             216.078014\n",
       "Distance from Residence to Work     21.333333\n",
       "Service time                        15.843972\n",
       "Age                                 46.425532\n",
       "Work load Average/day              269.326078\n",
       "Hit target                          94.163121\n",
       "Disciplinary failure                 0.113475\n",
       "Education                            1.085106\n",
       "Son                                  1.035461\n",
       "Social drinker                       0.666667\n",
       "Social smoker                        0.092199\n",
       "Pet                                  0.609929\n",
       "Weight                              86.695035\n",
       "Height                             171.354610\n",
       "Body mass index                     29.588652\n",
       "Absenteeism time in hours            8.375887\n",
       "dtype: float64"
      ]
     },
     "execution_count": 23,
     "metadata": {},
     "output_type": "execute_result"
    }
   ],
   "source": [
    "age_above_40.mean()"
   ]
  },
  {
   "cell_type": "markdown",
   "metadata": {},
   "source": [
    "As seen in the differing averages above, the two groups do not have the same data and thus do not behave the same."
   ]
  },
  {
   "cell_type": "markdown",
   "metadata": {},
   "source": [
    "### Disprove the Chi-squared independence null hypothesis"
   ]
  },
  {
   "cell_type": "code",
   "execution_count": 24,
   "metadata": {},
   "outputs": [],
   "source": [
    "import scipy"
   ]
  },
  {
   "cell_type": "code",
   "execution_count": 25,
   "metadata": {},
   "outputs": [],
   "source": [
    "corr, pvalue = scipy.stats.pearsonr(df['Transportation expense'], df['Distance from Residence to Work'])"
   ]
  },
  {
   "cell_type": "code",
   "execution_count": 26,
   "metadata": {},
   "outputs": [
    {
     "data": {
      "text/plain": [
       "(0.2621831106319081, 4.2533009832568887e-13)"
      ]
     },
     "execution_count": 26,
     "metadata": {},
     "output_type": "execute_result"
    }
   ],
   "source": [
    "corr, pvalue"
   ]
  },
  {
   "cell_type": "markdown",
   "metadata": {},
   "source": [
    "The p-value between the transportation expense and distance between residence and work columns is less than 0.001, so there is positive correlation between these two columns - as in, as transportation expense increases, so does the distance between residence and work."
   ]
  },
  {
   "cell_type": "markdown",
   "metadata": {},
   "source": [
    "### Disprove the repeated measures null hypothesis"
   ]
  },
  {
   "cell_type": "code",
   "execution_count": 27,
   "metadata": {},
   "outputs": [
    {
     "data": {
      "text/plain": [
       "3     113\n",
       "28     76\n",
       "34     55\n",
       "22     46\n",
       "20     42\n",
       "11     40\n",
       "15     37\n",
       "36     34\n",
       "24     30\n",
       "14     29\n",
       "33     24\n",
       "10     24\n",
       "1      23\n",
       "17     20\n",
       "5      19\n",
       "18     16\n",
       "13     15\n",
       "25     10\n",
       "6       8\n",
       "9       8\n",
       "23      8\n",
       "27      7\n",
       "30      7\n",
       "12      7\n",
       "7       6\n",
       "2       6\n",
       "29      5\n",
       "26      5\n",
       "32      5\n",
       "31      3\n",
       "19      3\n",
       "21      3\n",
       "16      2\n",
       "8       2\n",
       "35      1\n",
       "4       1\n",
       "Name: ID, dtype: int64"
      ]
     },
     "execution_count": 27,
     "metadata": {},
     "output_type": "execute_result"
    }
   ],
   "source": [
    "df['ID'].value_counts()"
   ]
  },
  {
   "cell_type": "code",
   "execution_count": 28,
   "metadata": {},
   "outputs": [],
   "source": [
    "emp_3 = df[df['ID'] == 3]"
   ]
  },
  {
   "cell_type": "code",
   "execution_count": 29,
   "metadata": {},
   "outputs": [
    {
     "data": {
      "text/html": [
       "<div>\n",
       "<style scoped>\n",
       "    .dataframe tbody tr th:only-of-type {\n",
       "        vertical-align: middle;\n",
       "    }\n",
       "\n",
       "    .dataframe tbody tr th {\n",
       "        vertical-align: top;\n",
       "    }\n",
       "\n",
       "    .dataframe thead th {\n",
       "        text-align: right;\n",
       "    }\n",
       "</style>\n",
       "<table border=\"1\" class=\"dataframe\">\n",
       "  <thead>\n",
       "    <tr style=\"text-align: right;\">\n",
       "      <th></th>\n",
       "      <th>ID</th>\n",
       "      <th>Reason for absence</th>\n",
       "      <th>Month of absence</th>\n",
       "      <th>Day of the week</th>\n",
       "      <th>Seasons</th>\n",
       "      <th>Transportation expense</th>\n",
       "      <th>Distance from Residence to Work</th>\n",
       "      <th>Service time</th>\n",
       "      <th>Age</th>\n",
       "      <th>Work load Average/day</th>\n",
       "      <th>...</th>\n",
       "      <th>Disciplinary failure</th>\n",
       "      <th>Education</th>\n",
       "      <th>Son</th>\n",
       "      <th>Social drinker</th>\n",
       "      <th>Social smoker</th>\n",
       "      <th>Pet</th>\n",
       "      <th>Weight</th>\n",
       "      <th>Height</th>\n",
       "      <th>Body mass index</th>\n",
       "      <th>Absenteeism time in hours</th>\n",
       "    </tr>\n",
       "  </thead>\n",
       "  <tbody>\n",
       "    <tr>\n",
       "      <th>2</th>\n",
       "      <td>3</td>\n",
       "      <td>23</td>\n",
       "      <td>7</td>\n",
       "      <td>4</td>\n",
       "      <td>1</td>\n",
       "      <td>179</td>\n",
       "      <td>51</td>\n",
       "      <td>18</td>\n",
       "      <td>38</td>\n",
       "      <td>239.554</td>\n",
       "      <td>...</td>\n",
       "      <td>0</td>\n",
       "      <td>1</td>\n",
       "      <td>0</td>\n",
       "      <td>1</td>\n",
       "      <td>0</td>\n",
       "      <td>0</td>\n",
       "      <td>89</td>\n",
       "      <td>170</td>\n",
       "      <td>31</td>\n",
       "      <td>2</td>\n",
       "    </tr>\n",
       "    <tr>\n",
       "      <th>5</th>\n",
       "      <td>3</td>\n",
       "      <td>23</td>\n",
       "      <td>7</td>\n",
       "      <td>6</td>\n",
       "      <td>1</td>\n",
       "      <td>179</td>\n",
       "      <td>51</td>\n",
       "      <td>18</td>\n",
       "      <td>38</td>\n",
       "      <td>239.554</td>\n",
       "      <td>...</td>\n",
       "      <td>0</td>\n",
       "      <td>1</td>\n",
       "      <td>0</td>\n",
       "      <td>1</td>\n",
       "      <td>0</td>\n",
       "      <td>0</td>\n",
       "      <td>89</td>\n",
       "      <td>170</td>\n",
       "      <td>31</td>\n",
       "      <td>2</td>\n",
       "    </tr>\n",
       "    <tr>\n",
       "      <th>13</th>\n",
       "      <td>3</td>\n",
       "      <td>11</td>\n",
       "      <td>7</td>\n",
       "      <td>4</td>\n",
       "      <td>1</td>\n",
       "      <td>179</td>\n",
       "      <td>51</td>\n",
       "      <td>18</td>\n",
       "      <td>38</td>\n",
       "      <td>239.554</td>\n",
       "      <td>...</td>\n",
       "      <td>0</td>\n",
       "      <td>1</td>\n",
       "      <td>0</td>\n",
       "      <td>1</td>\n",
       "      <td>0</td>\n",
       "      <td>0</td>\n",
       "      <td>89</td>\n",
       "      <td>170</td>\n",
       "      <td>31</td>\n",
       "      <td>1</td>\n",
       "    </tr>\n",
       "    <tr>\n",
       "      <th>14</th>\n",
       "      <td>3</td>\n",
       "      <td>23</td>\n",
       "      <td>7</td>\n",
       "      <td>4</td>\n",
       "      <td>1</td>\n",
       "      <td>179</td>\n",
       "      <td>51</td>\n",
       "      <td>18</td>\n",
       "      <td>38</td>\n",
       "      <td>239.554</td>\n",
       "      <td>...</td>\n",
       "      <td>0</td>\n",
       "      <td>1</td>\n",
       "      <td>0</td>\n",
       "      <td>1</td>\n",
       "      <td>0</td>\n",
       "      <td>0</td>\n",
       "      <td>89</td>\n",
       "      <td>170</td>\n",
       "      <td>31</td>\n",
       "      <td>4</td>\n",
       "    </tr>\n",
       "    <tr>\n",
       "      <th>16</th>\n",
       "      <td>3</td>\n",
       "      <td>23</td>\n",
       "      <td>7</td>\n",
       "      <td>6</td>\n",
       "      <td>1</td>\n",
       "      <td>179</td>\n",
       "      <td>51</td>\n",
       "      <td>18</td>\n",
       "      <td>38</td>\n",
       "      <td>239.554</td>\n",
       "      <td>...</td>\n",
       "      <td>0</td>\n",
       "      <td>1</td>\n",
       "      <td>0</td>\n",
       "      <td>1</td>\n",
       "      <td>0</td>\n",
       "      <td>0</td>\n",
       "      <td>89</td>\n",
       "      <td>170</td>\n",
       "      <td>31</td>\n",
       "      <td>2</td>\n",
       "    </tr>\n",
       "  </tbody>\n",
       "</table>\n",
       "<p>5 rows × 21 columns</p>\n",
       "</div>"
      ],
      "text/plain": [
       "    ID  Reason for absence  Month of absence  Day of the week  Seasons  \\\n",
       "2    3                  23                 7                4        1   \n",
       "5    3                  23                 7                6        1   \n",
       "13   3                  11                 7                4        1   \n",
       "14   3                  23                 7                4        1   \n",
       "16   3                  23                 7                6        1   \n",
       "\n",
       "    Transportation expense  Distance from Residence to Work  Service time  \\\n",
       "2                      179                               51            18   \n",
       "5                      179                               51            18   \n",
       "13                     179                               51            18   \n",
       "14                     179                               51            18   \n",
       "16                     179                               51            18   \n",
       "\n",
       "    Age  Work load Average/day   ...  Disciplinary failure  Education  Son  \\\n",
       "2    38                 239.554  ...                     0          1    0   \n",
       "5    38                 239.554  ...                     0          1    0   \n",
       "13   38                 239.554  ...                     0          1    0   \n",
       "14   38                 239.554  ...                     0          1    0   \n",
       "16   38                 239.554  ...                     0          1    0   \n",
       "\n",
       "    Social drinker  Social smoker  Pet  Weight  Height  Body mass index  \\\n",
       "2                1              0    0      89     170               31   \n",
       "5                1              0    0      89     170               31   \n",
       "13               1              0    0      89     170               31   \n",
       "14               1              0    0      89     170               31   \n",
       "16               1              0    0      89     170               31   \n",
       "\n",
       "    Absenteeism time in hours  \n",
       "2                           2  \n",
       "5                           2  \n",
       "13                          1  \n",
       "14                          4  \n",
       "16                          2  \n",
       "\n",
       "[5 rows x 21 columns]"
      ]
     },
     "execution_count": 29,
     "metadata": {},
     "output_type": "execute_result"
    }
   ],
   "source": [
    "emp_3.head()"
   ]
  },
  {
   "cell_type": "markdown",
   "metadata": {},
   "source": [
    "The table above considers the first five absences for the worker whose ID is 3. If the repeated measures null hypothesis were true, each column would contain a single value. This is not the case - we see that the workers' day of the week and reasons for absence vary, indicating that the values change with time. "
   ]
  },
  {
   "cell_type": "markdown",
   "metadata": {},
   "source": [
    "# Choosing Relationships to Visualize"
   ]
  },
  {
   "cell_type": "markdown",
   "metadata": {},
   "source": [
    "### Observations Following Conditional Formatting"
   ]
  },
  {
   "cell_type": "markdown",
   "metadata": {},
   "source": [
    "1: I notice that reasons for absences vary greatly; however, there are 5 to 6 reasons that seem to be more common than the rest and constitute the majority of the reasons for absences. Paying attention to these may help the employers determine a better PTO policy."
   ]
  },
  {
   "cell_type": "markdown",
   "metadata": {},
   "source": [
    "2: I notice that absences increase significantly in April and December, perhaps with the number of workers that take absences corresponding to spring break or holidays. It would be good for employers to understand this while drafting a PTO policy."
   ]
  },
  {
   "cell_type": "markdown",
   "metadata": {},
   "source": [
    "3: I notice that absence hours generally decrease as the work load average per day increases, though this may not be a very strong correlation. It would still be good for employers to be aware of this."
   ]
  },
  {
   "cell_type": "markdown",
   "metadata": {},
   "source": [
    "4: I notice that there are several people for whom the distance from residence to work and the number of absence hours are very high. This relationship may be good to visualize."
   ]
  },
  {
   "cell_type": "markdown",
   "metadata": {},
   "source": [
    "5: I notice that there is also a number of people for whom the transportation expense and number of absence hours are very high. This relationship may also be good to visualize and may assist in drafting a PTO policy."
   ]
  },
  {
   "cell_type": "markdown",
   "metadata": {},
   "source": [
    "# Visualization"
   ]
  },
  {
   "cell_type": "markdown",
   "metadata": {},
   "source": [
    "### Frequency of reasons for absence"
   ]
  },
  {
   "cell_type": "code",
   "execution_count": 30,
   "metadata": {},
   "outputs": [
    {
     "data": {
      "text/plain": [
       "Text(0.5, 1.0, 'Frequency of Absences Based on Reason')"
      ]
     },
     "execution_count": 30,
     "metadata": {},
     "output_type": "execute_result"
    },
    {
     "data": {
      "image/png": "[encoded data removed]",
      "text/plain": [
       "<Figure size 432x288 with 1 Axes>"
      ]
     },
     "metadata": {
      "needs_background": "light"
     },
     "output_type": "display_data"
    }
   ],
   "source": [
    "sns.countplot(x='Reason for absence', data=df).set_title('Frequency of Absences Based on Reason')"
   ]
  },
  {
   "cell_type": "markdown",
   "metadata": {},
   "source": [
    "#### Key takeaways from the visualization above:"
   ]
  },
  {
   "cell_type": "markdown",
   "metadata": {},
   "source": [
    "1: The largest number of absences is due to reason 23, which indicates a medical consultation. The PTO policy should include a clause that describes how the company will treat these appointments."
   ]
  },
  {
   "cell_type": "markdown",
   "metadata": {},
   "source": [
    "2: The second largest number of absences is due to reason 28, which indicates a dental consultation. Like medical consultations, dental consultations are appointments that everyone will have during the work week at some point. It would behoove employers to take these into consideration as necessities for their workers as they work to determine a PTO policy. It may also benefit companies to provide incentives for their employees to practice healthy habits so as to prevent excessive absences due to physical therapy (27), diseases of the musculoskeletal system (12), and patient follow-up (22)."
   ]
  },
  {
   "cell_type": "markdown",
   "metadata": {},
   "source": [
    "### Absence count based on month"
   ]
  },
  {
   "cell_type": "code",
   "execution_count": 31,
   "metadata": {},
   "outputs": [
    {
     "data": {
      "text/plain": [
       "Text(0.5, 1.0, 'Frequency of Absences Based on Month')"
      ]
     },
     "execution_count": 31,
     "metadata": {},
     "output_type": "execute_result"
    },
    {
     "data": {
      "image/png": "[encoded data removed]",
      "text/plain": [
       "<Figure size 432x288 with 1 Axes>"
      ]
     },
     "metadata": {
      "needs_background": "light"
     },
     "output_type": "display_data"
    }
   ],
   "source": [
    "sns.countplot(x='Month of absence', data=df).set_title('Frequency of Absences Based on Month')"
   ]
  },
  {
   "cell_type": "markdown",
   "metadata": {},
   "source": [
    "#### Key takeaways from the visualization above:"
   ]
  },
  {
   "cell_type": "markdown",
   "metadata": {},
   "source": [
    "1: The months with the most frequent absences are March, February, and October. None of these months are associated with common holidays, so let's take a closer look at the reasons for absence in these three months. "
   ]
  },
  {
   "cell_type": "code",
   "execution_count": 32,
   "metadata": {},
   "outputs": [],
   "source": [
    "months_abb = df[(df['Month of absence'] == 2) | (df['Month of absence'] == 3) | (df['Month of absence'] == 10)]"
   ]
  },
  {
   "cell_type": "code",
   "execution_count": 33,
   "metadata": {},
   "outputs": [
    {
     "data": {
      "text/plain": [
       "Text(0.5, 1.0, 'Frequency of Absences Based on Reason')"
      ]
     },
     "execution_count": 33,
     "metadata": {},
     "output_type": "execute_result"
    },
    {
     "data": {
      "image/png": "[encoded data removed]",
      "text/plain": [
       "<Figure size 432x288 with 1 Axes>"
      ]
     },
     "metadata": {
      "needs_background": "light"
     },
     "output_type": "display_data"
    }
   ],
   "source": [
    "sns.countplot(x='Reason for absence', data=months_abb).set_title('Frequency of Absences Based on Reason')"
   ]
  },
  {
   "cell_type": "markdown",
   "metadata": {},
   "source": [
    "2: The reasons for absences in the months with the most absences are very similar to the reasons for absences across all months: medical and dental consultations. It would be good for employees to take these reasons and their frequencies (about six months apart) into consideration as they draft the PTO policy."
   ]
  },
  {
   "cell_type": "markdown",
   "metadata": {},
   "source": [
    "### Relationship between Absence Hours and Work Load per Day"
   ]
  },
  {
   "cell_type": "code",
   "execution_count": 34,
   "metadata": {},
   "outputs": [
    {
     "data": {
      "text/plain": [
       "Text(0.5, 1.0, 'Absentee Hours based on Avg. Work Load')"
      ]
     },
     "execution_count": 34,
     "metadata": {},
     "output_type": "execute_result"
    },
    {
     "data": {
      "image/png": "[encoded data removed]",
      "text/plain": [
       "<Figure size 432x288 with 1 Axes>"
      ]
     },
     "metadata": {
      "needs_background": "light"
     },
     "output_type": "display_data"
    }
   ],
   "source": [
    "sns.scatterplot(x='Work load Average/day ', y='Absenteeism time in hours', data=df).set_title('Absentee Hours based on Avg. Work Load')"
   ]
  },
  {
   "cell_type": "markdown",
   "metadata": {},
   "source": [
    "#### Key takeaways from the visualization above:"
   ]
  },
  {
   "cell_type": "markdown",
   "metadata": {},
   "source": [
    "1: The highest amount of absentee hours are recorded by workers who have average or below average work loads per day. The employers might consider having separate guidelines for those who have different work loads, though the work load would have to be a tangible measure."
   ]
  },
  {
   "cell_type": "markdown",
   "metadata": {},
   "source": [
    "### Relationship between distance to work and Absentee Hours"
   ]
  },
  {
   "cell_type": "code",
   "execution_count": 35,
   "metadata": {},
   "outputs": [
    {
     "data": {
      "text/plain": [
       "Text(0.5, 1.0, 'Absentee Hours based on Distance to Work')"
      ]
     },
     "execution_count": 35,
     "metadata": {},
     "output_type": "execute_result"
    },
    {
     "data": {
      "image/png": "[encoded data removed]",
      "text/plain": [
       "<Figure size 432x288 with 1 Axes>"
      ]
     },
     "metadata": {
      "needs_background": "light"
     },
     "output_type": "display_data"
    }
   ],
   "source": [
    "sns.scatterplot(x='Distance from Residence to Work', y='Absenteeism time in hours', data=df).set_title('Absentee Hours based on Distance to Work')"
   ]
  },
  {
   "cell_type": "markdown",
   "metadata": {},
   "source": [
    "#### Key takeaways from the visualization above:"
   ]
  },
  {
   "cell_type": "markdown",
   "metadata": {},
   "source": [
    "1: The highest number of absentee hours have been recorded by employees who have abouot average or below average distances from their residence to work. Employers may be able to reduce the amount of absences from people who live far away by allowing for remote work. Employers also may be able to increase the number of people that come into work by incentivizing carpooling, public transportation, or biking."
   ]
  },
  {
   "cell_type": "markdown",
   "metadata": {},
   "source": [
    "### Relationship between transportation expense and Absentee hours"
   ]
  },
  {
   "cell_type": "code",
   "execution_count": 36,
   "metadata": {},
   "outputs": [
    {
     "data": {
      "text/plain": [
       "Text(0.5, 1.0, 'Absentee Hours based on Transportation Expense')"
      ]
     },
     "execution_count": 36,
     "metadata": {},
     "output_type": "execute_result"
    },
    {
     "data": {
      "image/png": "[encoded data removed]",
      "text/plain": [
       "<Figure size 432x288 with 1 Axes>"
      ]
     },
     "metadata": {
      "needs_background": "light"
     },
     "output_type": "display_data"
    }
   ],
   "source": [
    "sns.scatterplot(x='Transportation expense', y='Absenteeism time in hours', data=df).set_title('Absentee Hours based on Transportation Expense')"
   ]
  },
  {
   "cell_type": "markdown",
   "metadata": {},
   "source": [
    "#### Key takeaways from the visualization above:"
   ]
  },
  {
   "cell_type": "markdown",
   "metadata": {},
   "source": [
    "1: Like the relationship between distance to work from residence and absentee hours, the workers with average or below average transportation expenses are those who recorded the highest absentee hours. It might benefit employers to incentivize public transport and carpooling to get people to work. It also might help to include a clause in the PTO policy for those who have high transportation expenses so they can work from home if needed."
   ]
  }
 ],
 "metadata": {
  "kernelspec": {
   "display_name": "Python 3",
   "language": "python",
   "name": "python3"
  },
  "language_info": {
   "codemirror_mode": {
    "name": "ipython",
    "version": 3
   },
   "file_extension": ".py",
   "mimetype": "text/x-python",
   "name": "python",
   "nbconvert_exporter": "python",
   "pygments_lexer": "ipython3",
   "version": "3.8.3"
  }
 },
 "nbformat": 4,
 "nbformat_minor": 4
}
